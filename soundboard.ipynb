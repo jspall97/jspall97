{
 "cells": [
  {
   "cell_type": "code",
   "execution_count": 40,
   "metadata": {},
   "outputs": [],
   "source": [
    "import os"
   ]
  },
  {
   "cell_type": "code",
   "execution_count": 41,
   "metadata": {},
   "outputs": [],
   "source": [
    "files = os.listdir('./clips/')\n",
    "labels = [k[:-4] for k in files]"
   ]
  },
  {
   "cell_type": "code",
   "execution_count": 43,
   "metadata": {},
   "outputs": [],
   "source": [
    "with open('soundboard_text.txt', 'w+') as f:\n",
    "    for i in range(len(files)):\n",
    "        f.write('''<input type=\"button\" value=\"{0}\"  onclick=\"play('{0}')\">\\n'''.format(labels[i]))\n",
    "        f.write('''<audio id=\"{0}\" src=\"clips/{0}.m4a\" ></audio>\\n'''.format(labels[i]))\n",
    "        f.write('\\n')"
   ]
  }
 ],
 "metadata": {
  "kernelspec": {
   "display_name": "Python 3",
   "language": "python",
   "name": "python3"
  },
  "language_info": {
   "codemirror_mode": {
    "name": "ipython",
    "version": 3
   },
   "file_extension": ".py",
   "mimetype": "text/x-python",
   "name": "python",
   "nbconvert_exporter": "python",
   "pygments_lexer": "ipython3",
   "version": "3.6.9"
  }
 },
 "nbformat": 4,
 "nbformat_minor": 2
}
